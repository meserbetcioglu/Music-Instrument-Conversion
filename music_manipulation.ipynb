{
 "cells": [
  {
   "cell_type": "markdown",
   "metadata": {},
   "source": [
    "# Read Audio"
   ]
  },
  {
   "cell_type": "code",
   "execution_count": 214,
   "metadata": {},
   "outputs": [
    {
     "name": "stderr",
     "output_type": "stream",
     "text": [
      "C:\\Users\\elgor\\AppData\\Local\\Temp/ipykernel_21144/1462662413.py:21: DeprecationWarning: The binary mode of fromstring is deprecated, as it behaves surprisingly on unicode inputs. Use frombuffer instead\n",
      "  sig = np.fromstring(rawsig, np.short).byteswap()\n"
     ]
    }
   ],
   "source": [
    "import os\n",
    "dir = os.getcwd()\n",
    "\n",
    "import numpy as np\n",
    "\n",
    "def get_audio_file(filename):\n",
    "\n",
    "    # if filename.endswith('.mp3') or filename.endswith('.MP3'):\n",
    "    #     import librosa\n",
    "    #     sig, fs = librosa.load(dir + filename)\n",
    "    # elif filename.endswith('.wav') or filename.endswith('.WAV'):\n",
    "    #     from scipy.io import wavfile\n",
    "    #     fs, sig = wavfile.read(dir + filename)\n",
    "    # el\n",
    "    if filename.endswith('.aif') or filename.endswith('.AIF'):\n",
    "        import aifc\n",
    "        audio = aifc.open(dir + filename)\n",
    "    \n",
    "        fs = audio.getframerate()\n",
    "        nframes = audio.getnframes()\n",
    "        rawsig = audio.readframes(nframes)\n",
    "        sig = np.fromstring(rawsig, np.short).byteswap()\n",
    "\n",
    "    return fs, sig\n",
    "\n",
    "fsA, signalA = get_audio_file('/Audio/silentnight_piano.aif')\n",
    "fsB, signalB = get_audio_file('/Audio/silentnight_guitar.aif')\n",
    "fsC, signalC = get_audio_file('/Audio/littlestar_piano.aif')\n"
   ]
  },
  {
   "cell_type": "markdown",
   "metadata": {},
   "source": [
    "# Get Frequency Components"
   ]
  },
  {
   "cell_type": "code",
   "execution_count": 216,
   "metadata": {},
   "outputs": [
    {
     "name": "stderr",
     "output_type": "stream",
     "text": [
      "C:\\Users\\elgor\\anaconda3\\lib\\site-packages\\scipy\\signal\\spectral.py:1964: UserWarning: nperseg = 256 is greater than input length  = 2, using nperseg = 2\n",
      "  warnings.warn('nperseg = {0:d} is greater than input length '\n"
     ]
    }
   ],
   "source": [
    "from scipy import signal\n",
    "\n",
    "fA, tA, ZxxA = signal.stft(signalA, fs=fsA)\n",
    "magA = np.abs(ZxxA)\n",
    "\n",
    "fB, tB, ZxxB = signal.stft(signalB, fs=fsB)\n",
    "magB = np.abs(ZxxB)\n",
    "\n",
    "fC, tC, ZxxC = signal.stft(signalC, fs=fsC)\n",
    "magC = np.abs(ZxxC)\n",
    "sphaseC = ZxxC/(magC + np.finfo(float).eps)"
   ]
  },
  {
   "cell_type": "code",
   "execution_count": 217,
   "metadata": {},
   "outputs": [],
   "source": [
    "# import matplotlib.pyplot as plt\n",
    "\n",
    "# plt.pcolormesh(tA, fA, np.abs(ZxxA), vmin=0, vmax=2 * np.sqrt(2), shading='gouraud')\n",
    "# plt.title('STFT Magnitude')\n",
    "# plt.ylabel('Frequency [Hz]')\n",
    "# plt.xlabel('Time [sec]')\n",
    "# plt.show()"
   ]
  },
  {
   "cell_type": "markdown",
   "metadata": {},
   "source": [
    "# Transform from Piano to Guitar"
   ]
  },
  {
   "cell_type": "code",
   "execution_count": 218,
   "metadata": {},
   "outputs": [
    {
     "ename": "ValueError",
     "evalue": "matmul: Input operand 1 has a mismatch in its core dimension 0, with gufunc signature (n?,k),(k,m?)->(n?,m?) (size 2 is different from 129)",
     "output_type": "error",
     "traceback": [
      "\u001b[1;31m---------------------------------------------------------------------------\u001b[0m",
      "\u001b[1;31mValueError\u001b[0m                                Traceback (most recent call last)",
      "\u001b[1;32m~\\AppData\\Local\\Temp/ipykernel_21144/122628149.py\u001b[0m in \u001b[0;36m<module>\u001b[1;34m\u001b[0m\n\u001b[0;32m      3\u001b[0m \u001b[0mmagC\u001b[0m \u001b[1;33m=\u001b[0m \u001b[0mmagC\u001b[0m\u001b[1;33m.\u001b[0m\u001b[0mclip\u001b[0m\u001b[1;33m(\u001b[0m\u001b[0mmin\u001b[0m\u001b[1;33m=\u001b[0m\u001b[1;36m0\u001b[0m\u001b[1;33m)\u001b[0m\u001b[1;33m\u001b[0m\u001b[1;33m\u001b[0m\u001b[0m\n\u001b[0;32m      4\u001b[0m \u001b[1;33m\u001b[0m\u001b[0m\n\u001b[1;32m----> 5\u001b[1;33m \u001b[0mmagD\u001b[0m \u001b[1;33m=\u001b[0m \u001b[0mnp\u001b[0m\u001b[1;33m.\u001b[0m\u001b[0mmatmul\u001b[0m\u001b[1;33m(\u001b[0m\u001b[0mX\u001b[0m\u001b[1;33m,\u001b[0m \u001b[0mmagC\u001b[0m\u001b[1;33m)\u001b[0m\u001b[1;33m\u001b[0m\u001b[1;33m\u001b[0m\u001b[0m\n\u001b[0m\u001b[0;32m      6\u001b[0m \u001b[0m_\u001b[0m\u001b[1;33m,\u001b[0m \u001b[0mrawsignalD\u001b[0m \u001b[1;33m=\u001b[0m \u001b[0msignal\u001b[0m\u001b[1;33m.\u001b[0m\u001b[0mistft\u001b[0m\u001b[1;33m(\u001b[0m\u001b[0mmagD\u001b[0m\u001b[1;33m*\u001b[0m\u001b[0msphaseC\u001b[0m\u001b[1;33m,\u001b[0m \u001b[0mfs\u001b[0m\u001b[1;33m=\u001b[0m\u001b[0mfsC\u001b[0m\u001b[1;33m)\u001b[0m\u001b[1;33m\u001b[0m\u001b[1;33m\u001b[0m\u001b[0m\n\u001b[0;32m      7\u001b[0m \u001b[0msignalD\u001b[0m \u001b[1;33m=\u001b[0m \u001b[0mnp\u001b[0m\u001b[1;33m.\u001b[0m\u001b[0mrint\u001b[0m\u001b[1;33m(\u001b[0m\u001b[0mrawsignalD\u001b[0m\u001b[1;33m)\u001b[0m\u001b[1;33m.\u001b[0m\u001b[0mastype\u001b[0m\u001b[1;33m(\u001b[0m\u001b[0mnp\u001b[0m\u001b[1;33m.\u001b[0m\u001b[0mint16\u001b[0m\u001b[1;33m)\u001b[0m\u001b[1;33m\u001b[0m\u001b[1;33m\u001b[0m\u001b[0m\n",
      "\u001b[1;31mValueError\u001b[0m: matmul: Input operand 1 has a mismatch in its core dimension 0, with gufunc signature (n?,k),(k,m?)->(n?,m?) (size 2 is different from 129)"
     ]
    }
   ],
   "source": [
    "X =  np.matmul(magB, np.linalg.pinv(magA))\n",
    "\n",
    "magC = magC.clip(min=0)\n",
    "\n",
    "magD = np.matmul(X, magC)\n",
    "_, rawsignalD = signal.istft(magD*sphaseC, fs=fsC)\n",
    "signalD = np.rint(rawsignalD).astype(np.int16)\n"
   ]
  },
  {
   "cell_type": "markdown",
   "metadata": {},
   "source": [
    "# Write Audio"
   ]
  },
  {
   "cell_type": "code",
   "execution_count": null,
   "metadata": {},
   "outputs": [],
   "source": [
    "import scipy.io.wavfile as wav\n",
    "\n",
    "wav.write('./Post_Audio/littlestar_guitar.wav', fsC, signalD.astype(np.int16))"
   ]
  }
 ],
 "metadata": {
  "interpreter": {
   "hash": "a6ee3df190db0cf4ce9d66d444f586cbb95e12f7ba56dc797574d97011af8020"
  },
  "kernelspec": {
   "display_name": "Python 3.9.7 ('base')",
   "language": "python",
   "name": "python3"
  },
  "language_info": {
   "codemirror_mode": {
    "name": "ipython",
    "version": 3
   },
   "file_extension": ".py",
   "mimetype": "text/x-python",
   "name": "python",
   "nbconvert_exporter": "python",
   "pygments_lexer": "ipython3",
   "version": "3.9.7"
  },
  "orig_nbformat": 4
 },
 "nbformat": 4,
 "nbformat_minor": 2
}
